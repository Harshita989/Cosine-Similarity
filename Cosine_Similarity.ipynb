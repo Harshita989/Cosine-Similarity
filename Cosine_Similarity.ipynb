{
  "nbformat": 4,
  "nbformat_minor": 0,
  "metadata": {
    "colab": {
      "provenance": [],
      "authorship_tag": "ABX9TyP0BIdEGwqvh/uGrsf/QQc0",
      "include_colab_link": true
    },
    "kernelspec": {
      "name": "python3",
      "display_name": "Python 3"
    },
    "language_info": {
      "name": "python"
    }
  },
  "cells": [
    {
      "cell_type": "markdown",
      "metadata": {
        "id": "view-in-github",
        "colab_type": "text"
      },
      "source": [
        "<a href=\"https://colab.research.google.com/github/Harshita989/Cosine-Similarity/blob/main/Cosine_Similarity.ipynb\" target=\"_parent\"><img src=\"https://colab.research.google.com/assets/colab-badge.svg\" alt=\"Open In Colab\"/></a>"
      ]
    },
    {
      "cell_type": "code",
      "execution_count": 1,
      "metadata": {
        "colab": {
          "base_uri": "https://localhost:8080/"
        },
        "id": "24-X3LrktT_m",
        "outputId": "9bc4ae7f-0986-4dd0-c044-27ab36bb4b7c"
      },
      "outputs": [
        {
          "output_type": "stream",
          "name": "stdout",
          "text": [
            "Cosine similarity between [1, 2, 3] and [4, 5, 6]: 0.9746318461970762\n",
            "Cosine similarity between [1, 2, 3] and [1, 1, 1]: 0.9258200997725515\n"
          ]
        }
      ],
      "source": [
        "import math\n",
        "\n",
        "def cosine_similarity(vec1, vec2):\n",
        "    \"\"\"\n",
        "    Calculates the cosine similarity between two non-zero vectors.\n",
        "\n",
        "    Args:\n",
        "        vec1 (list or tuple): The first vector.\n",
        "        vec2 (list or tuple): The second vector.\n",
        "\n",
        "    Returns:\n",
        "        float: The cosine similarity between the two vectors.\n",
        "    \"\"\"\n",
        "    dot_product = sum(a * b for a, b in zip(vec1, vec2))\n",
        "    magnitude_vec1 = math.sqrt(sum(a ** 2 for a in vec1))\n",
        "    magnitude_vec2 = math.sqrt(sum(b ** 2 for b in vec2))\n",
        "\n",
        "    if magnitude_vec1 == 0 or magnitude_vec2 == 0:\n",
        "        return 0\n",
        "\n",
        "    return dot_product / (magnitude_vec1 * magnitude_vec2)\n",
        "\n",
        "# Example usage\n",
        "vector1 = [1, 2, 3]\n",
        "vector2 = [4, 5, 6]\n",
        "vector3 = [1, 1, 1]\n",
        "\n",
        "print(f\"Cosine similarity between {vector1} and {vector2}: {cosine_similarity(vector1, vector2)}\")\n",
        "print(f\"Cosine similarity between {vector1} and {vector3}: {cosine_similarity(vector1, vector3)}\")"
      ]
    }
  ]
}